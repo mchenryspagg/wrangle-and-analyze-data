{
 "cells": [
  {
   "cell_type": "markdown",
   "metadata": {},
   "source": [
    "## Reporting: wragle_report\n",
    "* Create a **300-600 word written report** called \"wrangle_report.pdf\" or \"wrangle_report.html\" that briefly describes your wrangling efforts. This is to be framed as an internal document."
   ]
  },
  {
   "cell_type": "markdown",
   "metadata": {},
   "source": [
    "The **Wrangle and Analyze data** project is aimed at demonstrating the capabilities of the student to gather data from different sources, wrangle data, analyze data and create insights and great visualizations from these data.\n",
    "\n",
    "Whilst carrying out this project, I gathered data from three different data sources and worked with three different types of files – `manually downloading a csv file`, `getting additional information from a URL using the request library into a tsv file`, and lastly `using twitter API tweepy to extract some more information about the data from twitter into a JSON file`.\n",
    "\n",
    "All three files were used to create three separate datasets with data from the tweet archive of twitter user **@dogrates**, also known as __WeRatedogs__."
   ]
  },
  {
   "cell_type": "markdown",
   "metadata": {},
   "source": [
    "After gathering the WeRatedogs twitter archive data from the different sources, we proceeded to perform a _data assessment_ which comprised of a visual assessment and lastly a programmatic assessment. From both assessments, we were able to detect a lot of data quality issues which we then proceeded to document, with a total of eight data quality issues and two tidiness issues as was expressly directed of us from the project instructions."
   ]
  },
  {
   "cell_type": "markdown",
   "metadata": {},
   "source": [
    "Furthermore, we began cleaning these issues that were documented in the data assessment section of the project. The _data cleaning_ steps took care of resolving all eight data quality and two tidiness issues that were previously documented in the data assessment section. "
   ]
  },
  {
   "cell_type": "markdown",
   "metadata": {},
   "source": [
    "It is expedient to note that the three-dataset gathered contained a lot of issues ranging from dirtiness to messiness issues alike. "
   ]
  },
  {
   "cell_type": "markdown",
   "metadata": {},
   "source": [
    "However, we were instructed to only identify eight data quality issues and two tidiness issues, which we did for the purpose of the project’s analysis."
   ]
  },
  {
   "cell_type": "markdown",
   "metadata": {},
   "source": [
    "This cleaning process helped to fix quite a lot of issues with the dataset and after all the quality and tidiness issues were cleaned, we created two master data frames containing data on tweet information and data on dog information. We saved these data frames as **twitter_master_archive.csv** – containing tweet information - as instructed and **dog_info_master.csv** – containing dog image information."
   ]
  },
  {
   "cell_type": "markdown",
   "metadata": {},
   "source": [
    "That concluded the data cleaning and storing data section of the project."
   ]
  },
  {
   "cell_type": "markdown",
   "metadata": {},
   "source": [
    "This section is immediately followed up by an _analysis and visualization_ of both the cleaned tweet and dog master data sets that were created in the data cleaning section.  The data sets was then analyzed for insights by asking three different questions and using the data to provide the appropriate visualizations  to back up the results of the insights garnered."
   ]
  }
 ],
 "metadata": {
  "kernelspec": {
   "display_name": "Python 3 (ipykernel)",
   "language": "python",
   "name": "python3"
  },
  "language_info": {
   "codemirror_mode": {
    "name": "ipython",
    "version": 3
   },
   "file_extension": ".py",
   "mimetype": "text/x-python",
   "name": "python",
   "nbconvert_exporter": "python",
   "pygments_lexer": "ipython3",
   "version": "3.9.12"
  }
 },
 "nbformat": 4,
 "nbformat_minor": 2
}
